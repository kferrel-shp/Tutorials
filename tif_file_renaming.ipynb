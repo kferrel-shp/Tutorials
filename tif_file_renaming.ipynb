{
  "nbformat": 4,
  "nbformat_minor": 0,
  "metadata": {
    "colab": {
      "provenance": [],
      "authorship_tag": "ABX9TyPZ2oo6a3Hpf+0s+S2Z+Pjd"
    },
    "kernelspec": {
      "name": "python3",
      "display_name": "Python 3"
    },
    "language_info": {
      "name": "python"
    }
  },
  "cells": [
    {
      "cell_type": "code",
      "execution_count": null,
      "metadata": {
        "id": "JpyiCfgTE0hc"
      },
      "outputs": [],
      "source": [
        "# This code takes the DEMs and changes the name in numerical order\n",
        "\n",
        "#Example\n",
        "\n",
        "#   old file names: 324786457929.tif, 7583478.tif. 3728589.tif, 327899.tif\n",
        "#   new file names: 1.tif, 2.tif, 3.tif, 4.tif\n",
        "\n",
        "# this way just makes organization a lot easier\n",
        "\n",
        "import os\n",
        "directory = 'Path/to/your/DEMs'\n",
        "\n",
        "for i, file_name in enumerate(sorted(f for f in os.listdir(directory) if f.lower().endswith('.tif')) ,start=1):\n",
        "    old_path = os.path.join(directory, file_name)\n",
        "    new_path = os.path.join(directory, f'{i}.tif')\n",
        "    os.rename(old_path, new_path)\n",
        "    print(f'Renamed: {file_name} > {i}.tif')\n",
        "print('Numbering Complete')"
      ]
    }
  ]
}